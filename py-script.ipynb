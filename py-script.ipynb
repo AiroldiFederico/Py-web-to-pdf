{
  "cells": [
    {
      "cell_type": "markdown",
      "metadata": {
        "id": "view-in-github",
        "colab_type": "text"
      },
      "source": [
        "<a href=\"https://colab.research.google.com/github/AiroldiFederico/Py-web-to-pdf/blob/main/py-script.ipynb\" target=\"_parent\"><img src=\"https://colab.research.google.com/assets/colab-badge.svg\" alt=\"Open In Colab\"/></a>"
      ]
    },
    {
      "cell_type": "markdown",
      "source": [
        "Codice python\n"
      ],
      "metadata": {
        "id": "946qwpNiBkxI"
      }
    },
    {
      "cell_type": "code",
      "source": [
        "# 1. Monta Google Drive per salvare i file in modo persistente\n",
        "from google.colab import drive\n",
        "drive.mount('/content/drive')\n",
        "\n",
        "# 2. Installa wkhtmltopdf e le librerie Python necessarie\n",
        "# !apt-get install -y wkhtmltopdf\n",
        "# !pip install pdfkit beautifulsoup4 PyPDF2\n",
        "\n",
        "import os\n",
        "import requests\n",
        "from bs4 import BeautifulSoup\n",
        "import pdfkit\n",
        "from PyPDF2 import PdfMerger\n",
        "\n",
        "# 3. Configura il percorso di wkhtmltopdf per Google Colab\n",
        "pdfkit_config = pdfkit.configuration(wkhtmltopdf='/usr/bin/wkhtmltopdf')\n",
        "\n",
        "# 4. Funzione per estrarre il contenuto principale di una pagina web\n",
        "def extract_content(url):\n",
        "    response = requests.get(url)\n",
        "    soup = BeautifulSoup(response.content, 'html.parser')\n",
        "\n",
        "    # Rimuovi header, footer, sidebar, script\n",
        "    for element in soup(['header', 'footer', 'aside', 'nav', 'script']):\n",
        "        element.decompose()\n",
        "\n",
        "    # Trova il contenuto principale nel tag specificato\n",
        "    content = soup.find('main', {'class': 'main_content'})  # Usa il tag corretto\n",
        "    if content:\n",
        "        return str(content)  # Restituisce solo il contenuto del tag specificato\n",
        "    else:\n",
        "        return \"<p>Content not found.</p>\"  # Gestione del caso in cui il contenuto non è trovato\n",
        "\n",
        "# 5. Funzione per salvare una pagina come PDF con opzioni di margini\n",
        "def save_pdf(content, output_filename):\n",
        "    # Salva il contenuto HTML scaricato localmente\n",
        "    with open(f\"{output_filename}.html\", \"w\", encoding=\"utf-8\") as file:\n",
        "        file.write(content)\n",
        "\n",
        "    # Opzioni per migliorare il layout\n",
        "    options = {\n",
        "        'quiet': '',\n",
        "        'disable-smart-shrinking': '',  # Disabilita lo \"shrinking\" per mantenere dimensioni corrette\n",
        "        'no-images': '',  # Mantieni le immagini\n",
        "        'margin-top': '20mm',  # Imposta margini generosi per una migliore leggibilità\n",
        "        'margin-bottom': '20mm',\n",
        "        'margin-left': '15mm',\n",
        "        'margin-right': '15mm',\n",
        "        'footer-right': '[page]',  # Aggiunge numeri di pagina nel piè di pagina\n",
        "        'minimum-font-size': '12',  # Imposta una dimensione minima del font\n",
        "        'encoding': 'UTF-8'  # Assicura una corretta codifica dei caratteri\n",
        "    }\n",
        "\n",
        "    # Converti il file HTML salvato in PDF con opzioni personalizzate\n",
        "    pdfkit.from_file(f\"{output_filename}.html\", f\"{output_filename}.pdf\", options=options, configuration=pdfkit_config)\n",
        "\n",
        "    # Rimuovi il file HTML temporaneo\n",
        "    os.remove(f\"{output_filename}.html\")\n",
        "\n",
        "# 6. Funzione per unire più PDF in uno solo\n",
        "def merge_pdfs(pdf_list, output_filename):\n",
        "    merger = PdfMerger()\n",
        "\n",
        "    for pdf in pdf_list:\n",
        "        merger.append(pdf)\n",
        "\n",
        "    # Salva il file PDF finale\n",
        "    merger.write(output_filename)\n",
        "    merger.close()\n",
        "\n",
        "# 7. Funzione principale per elaborare i link\n",
        "def process_links(urls, output_pdf):\n",
        "    pdf_files = []\n",
        "\n",
        "    for i, url in enumerate(urls, 1):\n",
        "        print(f\"Processing {url}...\")\n",
        "        content = extract_content(url)\n",
        "        pdf_filename = f\"page_{i}\"\n",
        "        save_pdf(content, pdf_filename)\n",
        "        pdf_files.append(f\"{pdf_filename}.pdf\")\n",
        "\n",
        "    # Unisci tutti i PDF\n",
        "    merge_pdfs(pdf_files, output_pdf)\n",
        "\n",
        "    # Rimuovi i PDF temporanei\n",
        "    for pdf_file in pdf_files:\n",
        "        os.remove(pdf_file)\n",
        "\n",
        "# 8. Lista di URL da elaborare (aggiungi i tuoi URL)\n",
        "urls = [\n",
        "    \"https://www.youmath.it/lezioni/algebra-elementare/insiemistica.html\",\n",
        "    \"https://www.youmath.it/lezioni/algebra-elementare/insiemistica/1583-insieme-finito-e-insieme-infinito.html\",\n",
        "    \"https://www.youmath.it/lezioni/algebra-elementare/insiemistica/1584-rappresentazione-per-elencazione-estensiva.html\",\n",
        "    \"https://www.youmath.it/lezioni/algebra-elementare/insiemistica/1585-rappresentazione-intensiva-per-caratteristica.html\",\n",
        "    \"https://www.youmath.it/lezioni/algebra-elementare/insiemistica/1586-cardinalita-di-un-insieme.html\",\n",
        "    \"https://www.youmath.it/lezioni/algebra-elementare/insiemistica/1587-insiemi-uguali-e-insiemi-equipotenti.html\"\n",
        "]\n",
        "\n",
        "# 9. Salva il PDF su Google Drive o scaricalo localmente\n",
        "# Salva su Google Drive\n",
        "output_pdf_drive = \"/content/drive/My Drive/ebook_finale.pdf\"\n",
        "process_links(urls, output_pdf_drive)  # Salva il PDF finale su Google Drive\n",
        "print(f\"Ebook generato con successo e salvato su Google Drive: {output_pdf_drive}\")\n",
        "\n",
        "# Oppure, se vuoi scaricare direttamente sul tuo computer locale:\n",
        "from google.colab import files\n",
        "files.download(output_pdf_drive)  # Scarica il PDF da Google Drive"
      ],
      "metadata": {
        "colab": {
          "base_uri": "https://localhost:8080/",
          "height": 163
        },
        "id": "Xrby7OE8BubB",
        "outputId": "6727f4ec-251f-4f77-e635-2a92d16b9373"
      },
      "execution_count": null,
      "outputs": [
        {
          "output_type": "stream",
          "name": "stdout",
          "text": [
            "Drive already mounted at /content/drive; to attempt to forcibly remount, call drive.mount(\"/content/drive\", force_remount=True).\n",
            "Processing https://www.youmath.it/lezioni/algebra-elementare/insiemistica.html...\n",
            "Processing https://www.youmath.it/lezioni/algebra-elementare/insiemistica/1583-insieme-finito-e-insieme-infinito.html...\n",
            "Processing https://www.youmath.it/lezioni/algebra-elementare/insiemistica/1584-rappresentazione-per-elencazione-estensiva.html...\n",
            "Processing https://www.youmath.it/lezioni/algebra-elementare/insiemistica/1585-rappresentazione-intensiva-per-caratteristica.html...\n",
            "Processing https://www.youmath.it/lezioni/algebra-elementare/insiemistica/1586-cardinalita-di-un-insieme.html...\n",
            "Processing https://www.youmath.it/lezioni/algebra-elementare/insiemistica/1587-insiemi-uguali-e-insiemi-equipotenti.html...\n",
            "Ebook generato con successo e salvato su Google Drive: /content/drive/My Drive/ebook_finale.pdf\n"
          ]
        },
        {
          "output_type": "display_data",
          "data": {
            "text/plain": [
              "<IPython.core.display.Javascript object>"
            ],
            "application/javascript": [
              "\n",
              "    async function download(id, filename, size) {\n",
              "      if (!google.colab.kernel.accessAllowed) {\n",
              "        return;\n",
              "      }\n",
              "      const div = document.createElement('div');\n",
              "      const label = document.createElement('label');\n",
              "      label.textContent = `Downloading \"${filename}\": `;\n",
              "      div.appendChild(label);\n",
              "      const progress = document.createElement('progress');\n",
              "      progress.max = size;\n",
              "      div.appendChild(progress);\n",
              "      document.body.appendChild(div);\n",
              "\n",
              "      const buffers = [];\n",
              "      let downloaded = 0;\n",
              "\n",
              "      const channel = await google.colab.kernel.comms.open(id);\n",
              "      // Send a message to notify the kernel that we're ready.\n",
              "      channel.send({})\n",
              "\n",
              "      for await (const message of channel.messages) {\n",
              "        // Send a message to notify the kernel that we're ready.\n",
              "        channel.send({})\n",
              "        if (message.buffers) {\n",
              "          for (const buffer of message.buffers) {\n",
              "            buffers.push(buffer);\n",
              "            downloaded += buffer.byteLength;\n",
              "            progress.value = downloaded;\n",
              "          }\n",
              "        }\n",
              "      }\n",
              "      const blob = new Blob(buffers, {type: 'application/binary'});\n",
              "      const a = document.createElement('a');\n",
              "      a.href = window.URL.createObjectURL(blob);\n",
              "      a.download = filename;\n",
              "      div.appendChild(a);\n",
              "      a.click();\n",
              "      div.remove();\n",
              "    }\n",
              "  "
            ]
          },
          "metadata": {}
        },
        {
          "output_type": "display_data",
          "data": {
            "text/plain": [
              "<IPython.core.display.Javascript object>"
            ],
            "application/javascript": [
              "download(\"download_e00e318e-3053-4a91-84ab-2342e155543d\", \"ebook_finale.pdf\", 279490)"
            ]
          },
          "metadata": {}
        }
      ]
    }
  ],
  "metadata": {
    "colab": {
      "name": "Un benvenuto a Colaboratory",
      "provenance": [],
      "toc_visible": true,
      "include_colab_link": true
    },
    "kernelspec": {
      "display_name": "Python 3",
      "name": "python3"
    }
  },
  "nbformat": 4,
  "nbformat_minor": 0
}